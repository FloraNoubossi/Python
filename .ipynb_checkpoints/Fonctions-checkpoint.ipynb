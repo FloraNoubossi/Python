{
 "cells": [
  {
   "cell_type": "code",
   "execution_count": 2,
   "id": "088691f8-f349-4066-835c-42fba8a7e6a5",
   "metadata": {},
   "outputs": [],
   "source": [
    "def f1(x):\n",
    "    res = x**2\n",
    "    if res %2 == 0:\n",
    "        print ('c est un nombre pair')\n",
    "    return res"
   ]
  },
  {
   "cell_type": "code",
   "execution_count": 12,
   "id": "a44e324b-f7ed-43db-addb-b5152ef4b5f4",
   "metadata": {},
   "outputs": [
    {
     "data": {
      "text/plain": [
       "4"
      ]
     },
     "execution_count": 12,
     "metadata": {},
     "output_type": "execute_result"
    }
   ],
   "source": [
    "f1(2)"
   ]
  },
  {
   "cell_type": "code",
   "execution_count": 11,
   "id": "fc5208ed-11f7-4c7f-808a-308087805224",
   "metadata": {},
   "outputs": [],
   "source": [
    "def f2(x:str) -> str:\n",
    "    return str(x)+ 'a'"
   ]
  },
  {
   "cell_type": "code",
   "execution_count": null,
   "id": "88db97d9-f5cd-4bc4-a4fa-5b6be4ea91d2",
   "metadata": {},
   "outputs": [],
   "source": [
    "t = list()\n",
    "for i in range(10)\n",
    "    t.append(i)\n"
   ]
  },
  {
   "cell_type": "code",
   "execution_count": null,
   "id": "59ea4d50-930b-4881-9f99-ae10e6ffddaa",
   "metadata": {},
   "outputs": [],
   "source": []
  },
  {
   "cell_type": "code",
   "execution_count": 7,
   "id": "1a735ecf-aa44-4b93-a95b-b338055ded03",
   "metadata": {},
   "outputs": [
    {
     "data": {
      "text/plain": [
       "[0, 1, 2, 3, 4, 5, 6, 7, 8, 9]"
      ]
     },
     "execution_count": 7,
     "metadata": {},
     "output_type": "execute_result"
    }
   ],
   "source": [
    "[i for i in range(10) ]"
   ]
  },
  {
   "cell_type": "code",
   "execution_count": 8,
   "id": "52e8da28-f558-4728-8f4b-1629344c05f6",
   "metadata": {},
   "outputs": [
    {
     "name": "stdout",
     "output_type": "stream",
     "text": [
      "/home/sysadmin/Documents\n"
     ]
    }
   ],
   "source": [
    "!pwd\n"
   ]
  },
  {
   "cell_type": "code",
   "execution_count": 9,
   "id": "b34de440-3e29-4f39-b922-4404d919849e",
   "metadata": {},
   "outputs": [
    {
     "name": "stdout",
     "output_type": "stream",
     "text": [
      "fasteners                 0.14.1\n",
      "fastjsonschema            2.20.0\n"
     ]
    }
   ],
   "source": [
    "!pip list | grep fast"
   ]
  },
  {
   "cell_type": "code",
   "execution_count": null,
   "id": "1a31c1a9-54b2-4c9b-8924-f1d9a0e5d9f4",
   "metadata": {},
   "outputs": [],
   "source": []
  }
 ],
 "metadata": {
  "kernelspec": {
   "display_name": "Python 3 (ipykernel)",
   "language": "python",
   "name": "python3"
  },
  "language_info": {
   "codemirror_mode": {
    "name": "ipython",
    "version": 3
   },
   "file_extension": ".py",
   "mimetype": "text/x-python",
   "name": "python",
   "nbconvert_exporter": "python",
   "pygments_lexer": "ipython3",
   "version": "3.10.12"
  }
 },
 "nbformat": 4,
 "nbformat_minor": 5
}
